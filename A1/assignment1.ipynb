{
 "cells": [
  {
   "attachments": {},
   "cell_type": "markdown",
   "metadata": {},
   "source": [
    "Package initialization"
   ]
  },
  {
   "cell_type": "code",
   "execution_count": 35,
   "metadata": {},
   "outputs": [],
   "source": [
    "import pandas as pd\n",
    "import numpy as np\n",
    "from sklearn.model_selection import train_test_split\n",
    "import matplotlib.pyplot as plt\n",
    "%matplotlib inline\n",
    "from sklearn.linear_model import LogisticRegression\n",
    "from sklearn.metrics import confusion_matrix"
   ]
  },
  {
   "attachments": {},
   "cell_type": "markdown",
   "metadata": {},
   "source": [
    "Read, format and split into training and testing data"
   ]
  },
  {
   "cell_type": "code",
   "execution_count": 14,
   "metadata": {},
   "outputs": [
    {
     "data": {
      "text/html": [
       "<div>\n",
       "<style scoped>\n",
       "    .dataframe tbody tr th:only-of-type {\n",
       "        vertical-align: middle;\n",
       "    }\n",
       "\n",
       "    .dataframe tbody tr th {\n",
       "        vertical-align: top;\n",
       "    }\n",
       "\n",
       "    .dataframe thead th {\n",
       "        text-align: right;\n",
       "    }\n",
       "</style>\n",
       "<table border=\"1\" class=\"dataframe\">\n",
       "  <thead>\n",
       "    <tr style=\"text-align: right;\">\n",
       "      <th></th>\n",
       "      <th>Age</th>\n",
       "      <th>Sex</th>\n",
       "      <th>ChestPainType</th>\n",
       "      <th>RestingBP</th>\n",
       "      <th>Cholesterol</th>\n",
       "      <th>RestingECG</th>\n",
       "      <th>MaxHR</th>\n",
       "      <th>ExerciseAngina</th>\n",
       "      <th>Oldpeak</th>\n",
       "      <th>ST_Slope</th>\n",
       "      <th>HeartDisease</th>\n",
       "    </tr>\n",
       "  </thead>\n",
       "  <tbody>\n",
       "    <tr>\n",
       "      <th>0</th>\n",
       "      <td>65</td>\n",
       "      <td>M</td>\n",
       "      <td>ASY</td>\n",
       "      <td>114</td>\n",
       "      <td>318</td>\n",
       "      <td>ST</td>\n",
       "      <td>140</td>\n",
       "      <td>N</td>\n",
       "      <td>4.4</td>\n",
       "      <td>Down</td>\n",
       "      <td>1</td>\n",
       "    </tr>\n",
       "    <tr>\n",
       "      <th>1</th>\n",
       "      <td>62</td>\n",
       "      <td>M</td>\n",
       "      <td>ASY</td>\n",
       "      <td>128</td>\n",
       "      <td>223</td>\n",
       "      <td>ST</td>\n",
       "      <td>119</td>\n",
       "      <td>Y</td>\n",
       "      <td>2.0</td>\n",
       "      <td>Down</td>\n",
       "      <td>1</td>\n",
       "    </tr>\n",
       "    <tr>\n",
       "      <th>2</th>\n",
       "      <td>56</td>\n",
       "      <td>M</td>\n",
       "      <td>ASY</td>\n",
       "      <td>140</td>\n",
       "      <td>298</td>\n",
       "      <td>Normal</td>\n",
       "      <td>122</td>\n",
       "      <td>Y</td>\n",
       "      <td>4.2</td>\n",
       "      <td>Flat</td>\n",
       "      <td>1</td>\n",
       "    </tr>\n",
       "    <tr>\n",
       "      <th>3</th>\n",
       "      <td>59</td>\n",
       "      <td>M</td>\n",
       "      <td>ASY</td>\n",
       "      <td>180</td>\n",
       "      <td>285</td>\n",
       "      <td>ST</td>\n",
       "      <td>120</td>\n",
       "      <td>Y</td>\n",
       "      <td>1.5</td>\n",
       "      <td>Flat</td>\n",
       "      <td>1</td>\n",
       "    </tr>\n",
       "    <tr>\n",
       "      <th>4</th>\n",
       "      <td>71</td>\n",
       "      <td>M</td>\n",
       "      <td>ASY</td>\n",
       "      <td>185</td>\n",
       "      <td>0</td>\n",
       "      <td>Normal</td>\n",
       "      <td>98</td>\n",
       "      <td>Y</td>\n",
       "      <td>0.0</td>\n",
       "      <td>Up</td>\n",
       "      <td>1</td>\n",
       "    </tr>\n",
       "    <tr>\n",
       "      <th>...</th>\n",
       "      <td>...</td>\n",
       "      <td>...</td>\n",
       "      <td>...</td>\n",
       "      <td>...</td>\n",
       "      <td>...</td>\n",
       "      <td>...</td>\n",
       "      <td>...</td>\n",
       "      <td>...</td>\n",
       "      <td>...</td>\n",
       "      <td>...</td>\n",
       "      <td>...</td>\n",
       "    </tr>\n",
       "    <tr>\n",
       "      <th>913</th>\n",
       "      <td>60</td>\n",
       "      <td>F</td>\n",
       "      <td>NAP</td>\n",
       "      <td>108</td>\n",
       "      <td>267</td>\n",
       "      <td>LVH</td>\n",
       "      <td>167</td>\n",
       "      <td>N</td>\n",
       "      <td>0.0</td>\n",
       "      <td>Up</td>\n",
       "      <td>0</td>\n",
       "    </tr>\n",
       "    <tr>\n",
       "      <th>914</th>\n",
       "      <td>57</td>\n",
       "      <td>M</td>\n",
       "      <td>ASY</td>\n",
       "      <td>120</td>\n",
       "      <td>182</td>\n",
       "      <td>Normal</td>\n",
       "      <td>150</td>\n",
       "      <td>N</td>\n",
       "      <td>0.0</td>\n",
       "      <td>Flat</td>\n",
       "      <td>1</td>\n",
       "    </tr>\n",
       "    <tr>\n",
       "      <th>915</th>\n",
       "      <td>71</td>\n",
       "      <td>M</td>\n",
       "      <td>ASY</td>\n",
       "      <td>140</td>\n",
       "      <td>187</td>\n",
       "      <td>LVH</td>\n",
       "      <td>144</td>\n",
       "      <td>Y</td>\n",
       "      <td>4.0</td>\n",
       "      <td>Up</td>\n",
       "      <td>1</td>\n",
       "    </tr>\n",
       "    <tr>\n",
       "      <th>916</th>\n",
       "      <td>42</td>\n",
       "      <td>M</td>\n",
       "      <td>ATA</td>\n",
       "      <td>120</td>\n",
       "      <td>200</td>\n",
       "      <td>Normal</td>\n",
       "      <td>160</td>\n",
       "      <td>Y</td>\n",
       "      <td>1.0</td>\n",
       "      <td>Flat</td>\n",
       "      <td>0</td>\n",
       "    </tr>\n",
       "    <tr>\n",
       "      <th>917</th>\n",
       "      <td>44</td>\n",
       "      <td>F</td>\n",
       "      <td>ATA</td>\n",
       "      <td>110</td>\n",
       "      <td>250</td>\n",
       "      <td>ST</td>\n",
       "      <td>142</td>\n",
       "      <td>N</td>\n",
       "      <td>0.0</td>\n",
       "      <td>Up</td>\n",
       "      <td>0</td>\n",
       "    </tr>\n",
       "  </tbody>\n",
       "</table>\n",
       "<p>918 rows × 11 columns</p>\n",
       "</div>"
      ],
      "text/plain": [
       "     Age Sex ChestPainType  RestingBP  Cholesterol RestingECG  MaxHR  \\\n",
       "0     65   M           ASY        114          318         ST    140   \n",
       "1     62   M           ASY        128          223         ST    119   \n",
       "2     56   M           ASY        140          298     Normal    122   \n",
       "3     59   M           ASY        180          285         ST    120   \n",
       "4     71   M           ASY        185            0     Normal     98   \n",
       "..   ...  ..           ...        ...          ...        ...    ...   \n",
       "913   60   F           NAP        108          267        LVH    167   \n",
       "914   57   M           ASY        120          182     Normal    150   \n",
       "915   71   M           ASY        140          187        LVH    144   \n",
       "916   42   M           ATA        120          200     Normal    160   \n",
       "917   44   F           ATA        110          250         ST    142   \n",
       "\n",
       "    ExerciseAngina  Oldpeak ST_Slope  HeartDisease  \n",
       "0                N      4.4     Down             1  \n",
       "1                Y      2.0     Down             1  \n",
       "2                Y      4.2     Flat             1  \n",
       "3                Y      1.5     Flat             1  \n",
       "4                Y      0.0       Up             1  \n",
       "..             ...      ...      ...           ...  \n",
       "913              N      0.0       Up             0  \n",
       "914              N      0.0     Flat             1  \n",
       "915              Y      4.0       Up             1  \n",
       "916              Y      1.0     Flat             0  \n",
       "917              N      0.0       Up             0  \n",
       "\n",
       "[918 rows x 11 columns]"
      ]
     },
     "metadata": {},
     "output_type": "display_data"
    }
   ],
   "source": [
    "# Read the data into a Pandas DataFrame\n",
    "data = pd.read_csv(\"W23 - heart_modified.csv\")\n",
    "display(data)"
   ]
  },
  {
   "attachments": {},
   "cell_type": "markdown",
   "metadata": {},
   "source": [
    "1. Download the data and input into numpy objects."
   ]
  },
  {
   "cell_type": "code",
   "execution_count": 15,
   "metadata": {},
   "outputs": [],
   "source": [
    "# Define the headers of the data to facilitate code at the end of the cell (when splitting into X and y data)\n",
    "headers = pd.read_csv(\"W23 - heart_modified.csv\").columns.to_list()\n",
    "\n",
    "# Encode string parameters as integers\n",
    "# Will facilitate the data analysis and binary classifier\n",
    "data['Sex'] = data['Sex'].replace(\"M\", 0)\n",
    "data['Sex'] = data['Sex'].replace(\"F\", 1)\n",
    "data['ExerciseAngina'] = data['ExerciseAngina'].replace(\"N\", 0)\n",
    "data['ExerciseAngina'] = data['ExerciseAngina'].replace(\"Y\", 1)\n",
    "data['ChestPainType'] = data['ChestPainType'].replace(\"ASY\", 0)\n",
    "data['ChestPainType'] = data['ChestPainType'].replace(\"NAP\", 1)\n",
    "data['ChestPainType'] = data['ChestPainType'].replace(\"TA\", 2)\n",
    "data['ChestPainType'] = data['ChestPainType'].replace(\"ATA\", 3)\n",
    "data['RestingECG'] = data['RestingECG'].replace(\"Normal\", 0)\n",
    "data['RestingECG'] = data['RestingECG'].replace(\"LVH\", 1)\n",
    "data['RestingECG'] = data['RestingECG'].replace(\"ST\", 2)\n",
    "data['ST_Slope'] = data['ST_Slope'].replace(\"Flat\", 0)\n",
    "data['ST_Slope'] = data['ST_Slope'].replace(\"Down\", 1)\n",
    "data['ST_Slope'] = data['ST_Slope'].replace(\"Up\", 2)\n",
    "data_np = data.to_numpy()\n",
    "\n",
    "X, y = data_np[:, 0:len(headers)-2], data_np[:, len(headers)-1]\n",
    "\n",
    "# Split into training and testing data\n",
    "X_train, X_test, y_train, y_test = train_test_split(X, y, test_size=0.33, shuffle=True)\n"
   ]
  },
  {
   "attachments": {},
   "cell_type": "markdown",
   "metadata": {},
   "source": [
    "2. [PA] Perform basic statistical analysis on the data using python packages such as NumPy.\n",
    "3. [PA]Create 1-2 visualizations of the data using python packages such matplotlib.\n",
    "\n",
    "Parts 2 and 3 are both covered in the following code. For the basic statistical analysis, the correlation between the parameters was calculated and subsequently visualized using a heatmap. Further visualization is done by plotting the class distribution of the training and testing data. "
   ]
  },
  {
   "attachments": {},
   "cell_type": "markdown",
   "metadata": {},
   "source": [
    "Heatmap for correlation between continuous variables and y variable"
   ]
  },
  {
   "cell_type": "code",
   "execution_count": 5,
   "metadata": {},
   "outputs": [
    {
     "data": {
      "text/plain": [
       "<AxesSubplot:>"
      ]
     },
     "execution_count": 5,
     "metadata": {},
     "output_type": "execute_result"
    },
    {
     "data": {
      "image/png": "[encoded data removed]",
      "text/plain": [
       "<Figure size 432x288 with 2 Axes>"
      ]
     },
     "metadata": {
      "needs_background": "light"
     },
     "output_type": "display_data"
    }
   ],
   "source": [
    "import seaborn as sns\n",
    "\n",
    "# Create heatmap\n",
    "sns.heatmap(data.corr())"
   ]
  },
  {
   "attachments": {},
   "cell_type": "markdown",
   "metadata": {},
   "source": [
    "Plot class distribution for training and testing data"
   ]
  },
  {
   "cell_type": "code",
   "execution_count": 4,
   "metadata": {},
   "outputs": [
    {
     "data": {
      "image/png": "[encoded data removed]",
      "text/plain": [
       "<Figure size 1440x576 with 2 Axes>"
      ]
     },
     "metadata": {
      "needs_background": "light"
     },
     "output_type": "display_data"
    }
   ],
   "source": [
    "'''\n",
    "The following are class distributions.\n",
    "This will help visualize how the training and testing data were split when the Scikit function 'train_test_split' was executed\n",
    "'''\n",
    "\n",
    "fig, (ax1, ax2) = plt.subplots(1,2, figsize=(20,8))\n",
    "\n",
    "# Plot class distribution of training data\n",
    "labels, counts = np.unique(y_train, return_counts=True)\n",
    "ax1.bar(labels, counts, align='center', color=plt.cm.get_cmap('tab10').colors)\n",
    "ax1.set_xticks(labels)\n",
    "ax1.set_xticklabels([0, 1])\n",
    "ax1.set_title(\"Class disitrubtion of training data\")\n",
    "ax1.set_xlabel(\"Class #\")\n",
    "ax1.set_ylabel(\"Counts\")\n",
    "\n",
    "# Plot class distribution of testing data\n",
    "labels, counts = np.unique(y_test, return_counts=True)\n",
    "ax2.bar(labels, counts, align='center', color=plt.cm.get_cmap('tab10').colors)\n",
    "ax2.set_xticks(labels)\n",
    "ax2.set_xticklabels([0, 1])\n",
    "ax2.set_title(\"Class disitrubtion of testing data\")\n",
    "ax2.set_xlabel(\"Class #\")\n",
    "ax2.set_ylabel(\"Counts\")\n",
    "\n",
    "plt.show()\n"
   ]
  },
  {
   "attachments": {},
   "cell_type": "markdown",
   "metadata": {},
   "source": [
    "4. [DE] Use Scikit and implement at least one learning algorithm to create a binary\n",
    "classifier."
   ]
  },
  {
   "cell_type": "code",
   "execution_count": 23,
   "metadata": {},
   "outputs": [],
   "source": [
    "# Use Scikit's logistic regression model as a binary classifier for fitting and predicting the data\n",
    "model = LogisticRegression(max_iter=1000)\n",
    "model.fit(X_train, y_train)\n",
    "y_pred = model.predict(X_test)"
   ]
  },
  {
   "attachments": {},
   "cell_type": "markdown",
   "metadata": {},
   "source": [
    "5. [DE] Calculate the prediction accuracy of the classifier and create the confusion\n",
    "matrix to report on recall and precision. Elaborate on what this information\n",
    "communicates about the classifier you have created."
   ]
  },
  {
   "cell_type": "code",
   "execution_count": 37,
   "metadata": {},
   "outputs": [
    {
     "name": "stdout",
     "output_type": "stream",
     "text": [
      "0.8118811881188119\n",
      "[[105  24]\n",
      " [ 33 141]]\n"
     ]
    }
   ],
   "source": [
    "# Caluclate accuracy by determining how many of the predicted labels match the testing labels\n",
    "accuracy = np.sum(y_test == y_pred) / len(y_pred)\n",
    "print(accuracy)\n",
    "'''The accuracy metric informs us of the effectiveness of the model to understand the data and make accurate predictions.'''\n",
    "\n",
    "cm = confusion_matrix(y_test, y_pred)"
   ]
  }
 ],
 "metadata": {
  "kernelspec": {
   "display_name": "Python 3",
   "language": "python",
   "name": "python3"
  },
  "language_info": {
   "codemirror_mode": {
    "name": "ipython",
    "version": 3
   },
   "file_extension": ".py",
   "mimetype": "text/x-python",
   "name": "python",
   "nbconvert_exporter": "python",
   "pygments_lexer": "ipython3",
   "version": "3.7.3"
  },
  "orig_nbformat": 4,
  "vscode": {
   "interpreter": {
    "hash": "d49c3f6d6dd49f9272b571d9fad348ab55b8c6c3f691520d74ed0af1f69c3dd8"
   }
  }
 },
 "nbformat": 4,
 "nbformat_minor": 2
}
